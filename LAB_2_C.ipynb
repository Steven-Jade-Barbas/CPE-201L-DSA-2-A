{
  "nbformat": 4,
  "nbformat_minor": 0,
  "metadata": {
    "colab": {
      "provenance": [],
      "authorship_tag": "ABX9TyNfZTLg62hgr4dCflc/h+uz",
      "include_colab_link": true
    },
    "kernelspec": {
      "name": "python3",
      "display_name": "Python 3"
    },
    "language_info": {
      "name": "python"
    }
  },
  "cells": [
    {
      "cell_type": "markdown",
      "metadata": {
        "id": "view-in-github",
        "colab_type": "text"
      },
      "source": [
        "<a href=\"https://colab.research.google.com/github/Steven-Jade-Barbas/CPE-201L-DSA-2-A/blob/main/LAB_2_C.ipynb\" target=\"_parent\"><img src=\"https://colab.research.google.com/assets/colab-badge.svg\" alt=\"Open In Colab\"/></a>"
      ]
    },
    {
      "cell_type": "code",
      "execution_count": 5,
      "metadata": {
        "colab": {
          "base_uri": "https://localhost:8080/"
        },
        "id": "p9u8-zjGVUrn",
        "outputId": "1f295dd6-9411-45aa-ee01-e01dfb47241e"
      },
      "outputs": [
        {
          "output_type": "stream",
          "name": "stdout",
          "text": [
            "Min: 5, Max: 60\n"
          ]
        }
      ],
      "source": [
        "\n",
        "def minmax(arr):\n",
        "    if len(arr) == 1:\n",
        "        return arr[0], arr[0]\n",
        "\n",
        "    a, b = minmax(arr[1:])\n",
        "\n",
        "    return min(arr[0], a), max(arr[0], b)\n",
        "\n",
        "nums = [5, 8, 9, 7, 20, 60]\n",
        "x, y = minmax(nums)\n",
        "print(f\"Min: {x}, Max: {y}\")\n",
        "\n",
        "\n",
        "\n"
      ]
    }
  ]
}