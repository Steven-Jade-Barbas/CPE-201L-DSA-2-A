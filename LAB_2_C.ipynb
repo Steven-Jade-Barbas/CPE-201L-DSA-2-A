{
  "nbformat": 4,
  "nbformat_minor": 0,
  "metadata": {
    "colab": {
      "provenance": [],
      "authorship_tag": "ABX9TyNMCfGsMW40TJz2uGNHntea",
      "include_colab_link": true
    },
    "kernelspec": {
      "name": "python3",
      "display_name": "Python 3"
    },
    "language_info": {
      "name": "python"
    }
  },
  "cells": [
    {
      "cell_type": "markdown",
      "metadata": {
        "id": "view-in-github",
        "colab_type": "text"
      },
      "source": [
        "<a href=\"https://colab.research.google.com/github/Steven-Jade-Barbas/CPE-201L-DSA-2-A/blob/main/LAB_2_C.ipynb\" target=\"_parent\"><img src=\"https://colab.research.google.com/assets/colab-badge.svg\" alt=\"Open In Colab\"/></a>"
      ]
    },
    {
      "cell_type": "code",
      "execution_count": 2,
      "metadata": {
        "colab": {
          "base_uri": "https://localhost:8080/"
        },
        "id": "p9u8-zjGVUrn",
        "outputId": "f8d9a1a4-47fb-4f0a-ebfd-b206c89b277c"
      },
      "outputs": [
        {
          "output_type": "stream",
          "name": "stdout",
          "text": [
            "Min: 1, Max: 9\n",
            "Min: 42, Max: 42\n"
          ]
        }
      ],
      "source": [
        "\n",
        "def minmax(arr):\n",
        "    if len(arr) == 1:\n",
        "        return arr[0], arr[0]\n",
        "\n",
        "    a, b = minmax(arr[1:])\n",
        "\n",
        "    return min(arr[0], a), max(arr[0], b)\n",
        "\n",
        "nums = [5, 2, 9, 1, 7]\n",
        "x, y = minmax(nums)\n",
        "print(f\"Min: {x}, Max: {y}\")\n",
        "\n",
        "z, w = minmax([42])\n",
        "print(f\"Min: {z}, Max: {w}\")\n",
        "\n"
      ]
    }
  ]
}