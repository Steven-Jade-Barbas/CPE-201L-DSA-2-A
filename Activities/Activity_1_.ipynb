{
  "nbformat": 4,
  "nbformat_minor": 0,
  "metadata": {
    "colab": {
      "provenance": [],
      "authorship_tag": "ABX9TyNpVGLF3zMJnMrwy/3WEC2u",
      "include_colab_link": true
    },
    "kernelspec": {
      "name": "python3",
      "display_name": "Python 3"
    },
    "language_info": {
      "name": "python"
    }
  },
  "cells": [
    {
      "cell_type": "markdown",
      "metadata": {
        "id": "view-in-github",
        "colab_type": "text"
      },
      "source": [
        "<a href=\"https://colab.research.google.com/github/Steven-Jade-Barbas/CPE-201L-DSA-2-A/blob/main/Activity_1_.ipynb\" target=\"_parent\"><img src=\"https://colab.research.google.com/assets/colab-badge.svg\" alt=\"Open In Colab\"/></a>"
      ]
    },
    {
      "cell_type": "code",
      "execution_count": 11,
      "metadata": {
        "colab": {
          "base_uri": "https://localhost:8080/"
        },
        "id": "H6uThHnEzPy1",
        "outputId": "fa9a1ae0-4398-434e-d91b-22ae3dbcd478"
      },
      "outputs": [
        {
          "output_type": "stream",
          "name": "stdout",
          "text": [
            "\n",
            "\n",
            "Calculate the area of a circle\n",
            "Given (Radius or Diameter): Radius\n",
            "Input radius: 45\n",
            "Area of the circle is: 6361.725123519331\n"
          ]
        }
      ],
      "source": [
        "import math\n",
        "print (\"\\n\")\n",
        "print(\"Calculate the area of a circle\")\n",
        "given = input(\"Given (Radius or Diameter): \")\n",
        "\n",
        "if given == \"Radius\":\n",
        "    Radius = float(input(\"Input radius: \"))\n",
        "    area = math.pi * Radius ** 2\n",
        "    print(\"Area of the circle is:\", area)\n",
        "elif given == \"Diameter\":\n",
        "    Diameter = float(input(\"Input diameter: \"))\n",
        "    Radius = Diameter / 2\n",
        "    area = math.pi * Radius ** 2\n",
        "    print(\"Area of the circle is:\", area)\n",
        "else:\n",
        "    print(\"Invalid input. Please enter 'Radius' or 'Diameter'.\")"
      ]
    },
    {
      "cell_type": "markdown",
      "source": [],
      "metadata": {
        "id": "aOOCUvFE1vET"
      }
    }
  ]
}