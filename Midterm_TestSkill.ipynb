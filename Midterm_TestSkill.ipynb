{
  "nbformat": 4,
  "nbformat_minor": 0,
  "metadata": {
    "colab": {
      "provenance": [],
      "authorship_tag": "ABX9TyP+O9Zzo4AMNiPMO3UoIgJt",
      "include_colab_link": true
    },
    "kernelspec": {
      "name": "python3",
      "display_name": "Python 3"
    },
    "language_info": {
      "name": "python"
    }
  },
  "cells": [
    {
      "cell_type": "markdown",
      "metadata": {
        "id": "view-in-github",
        "colab_type": "text"
      },
      "source": [
        "<a href=\"https://colab.research.google.com/github/Steven-Jade-Barbas/CPE-201L-DSA-2-A/blob/main/Midterm_TestSkill.ipynb\" target=\"_parent\"><img src=\"https://colab.research.google.com/assets/colab-badge.svg\" alt=\"Open In Colab\"/></a>"
      ]
    },
    {
      "cell_type": "code",
      "source": [
        "import array as aSSrr\n",
        "\n",
        "Arr = arr.array('i', [num for num in range(20, 51) if num % 2 == 0])\n",
        "\n",
        "print(\"Array elements:\")\n",
        "for i in range(len(Arr)):\n",
        "    print(f\"Arr[{i}] = \\\"{Arr[i]}\\\"\")\n",
        "\n",
        "max_element = max(Arr)\n",
        "print(f\"\\nMaximum element: {max_element}\")\n",
        "\n",
        "reversed_Arr = arr.array('i', Arr[::-1])\n",
        "print(\"\\nReversed array:\")\n",
        "for i in range(len(reversed_Arr)):\n",
        "    print(f\"Arr[{i}] = \\\"{reversed_Arr[i]}\\\"\")"
      ],
      "metadata": {
        "colab": {
          "base_uri": "https://localhost:8080/"
        },
        "id": "w4p3ApieIG4M",
        "outputId": "503bac0c-4f89-4191-d804-d39dfa08264f"
      },
      "execution_count": 19,
      "outputs": [
        {
          "output_type": "stream",
          "name": "stdout",
          "text": [
            "Array elements:\n",
            "Arr[0] = \"20\"\n",
            "Arr[1] = \"22\"\n",
            "Arr[2] = \"24\"\n",
            "Arr[3] = \"26\"\n",
            "Arr[4] = \"28\"\n",
            "Arr[5] = \"30\"\n",
            "Arr[6] = \"32\"\n",
            "Arr[7] = \"34\"\n",
            "Arr[8] = \"36\"\n",
            "Arr[9] = \"38\"\n",
            "Arr[10] = \"40\"\n",
            "Arr[11] = \"42\"\n",
            "Arr[12] = \"44\"\n",
            "Arr[13] = \"46\"\n",
            "Arr[14] = \"48\"\n",
            "Arr[15] = \"50\"\n",
            "\n",
            "Maximum element: 50\n",
            "\n",
            "Reversed array:\n",
            "Arr[0] = \"50\"\n",
            "Arr[1] = \"48\"\n",
            "Arr[2] = \"46\"\n",
            "Arr[3] = \"44\"\n",
            "Arr[4] = \"42\"\n",
            "Arr[5] = \"40\"\n",
            "Arr[6] = \"38\"\n",
            "Arr[7] = \"36\"\n",
            "Arr[8] = \"34\"\n",
            "Arr[9] = \"32\"\n",
            "Arr[10] = \"30\"\n",
            "Arr[11] = \"28\"\n",
            "Arr[12] = \"26\"\n",
            "Arr[13] = \"24\"\n",
            "Arr[14] = \"22\"\n",
            "Arr[15] = \"20\"\n"
          ]
        }
      ]
    }
  ]
}