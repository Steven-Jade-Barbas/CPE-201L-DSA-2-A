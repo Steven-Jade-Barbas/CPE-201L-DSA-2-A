{
  "nbformat": 4,
  "nbformat_minor": 0,
  "metadata": {
    "colab": {
      "provenance": [],
      "authorship_tag": "ABX9TyMPwSV0mS/OKqrFyFgOBm5I",
      "include_colab_link": true
    },
    "kernelspec": {
      "name": "python3",
      "display_name": "Python 3"
    },
    "language_info": {
      "name": "python"
    }
  },
  "cells": [
    {
      "cell_type": "markdown",
      "metadata": {
        "id": "view-in-github",
        "colab_type": "text"
      },
      "source": [
        "<a href=\"https://colab.research.google.com/github/Steven-Jade-Barbas/CPE-201L-DSA-2-A/blob/main/Lab_1_Act1.ipynb\" target=\"_parent\"><img src=\"https://colab.research.google.com/assets/colab-badge.svg\" alt=\"Open In Colab\"/></a>"
      ]
    },
    {
      "cell_type": "code",
      "execution_count": null,
      "metadata": {
        "colab": {
          "base_uri": "https://localhost:8080/"
        },
        "id": "6X7L_SO63FLw",
        "outputId": "01948b8d-0825-4ebd-b7ae-77ef3789a97b"
      },
      "outputs": [
        {
          "output_type": "stream",
          "name": "stdout",
          "text": [
            "Enter the name of the polygon: PENTAGON\n",
            "Enter the number of sides: 5\n",
            "Enter the area: 58\n",
            "\n",
            "Polygon Details:\n",
            "Name: PENTAGON\n",
            "Number of Sides: 5\n",
            "Area: 58.0\n"
          ]
        }
      ],
      "source": [
        "class Polygons:\n",
        "    def __init__(self, name: str, sides: int, area: float):\n",
        "        if sides < 3:\n",
        "            raise ValueError(\"A polygon must have at least 3 sides.\")\n",
        "        if area <= 0:\n",
        "            raise ValueError(\"Area must be a positive value.\")\n",
        "\n",
        "        self.name = name\n",
        "        self.sides = sides\n",
        "        self.area = area\n",
        "\n",
        "    def set_name(self, name: str):\n",
        "        self.name = name\n",
        "    def set_sides(self, sides: int):\n",
        "        if sides < 3:\n",
        "            raise ValueError(\"A polygon must have at least 3 sides.\")\n",
        "        self.sides = sides\n",
        "    def set_area(self, area: float):\n",
        "        if area <= 0:\n",
        "            raise ValueError(\"Area must be a positive value.\")\n",
        "        self.area = area\n",
        "\n",
        "\n",
        "    def get_name(self) -> str:\n",
        "        return self.name\n",
        "    def get_sides(self) -> int:\n",
        "        return self.sides\n",
        "    def get_area(self) -> float:\n",
        "        return self.area\n",
        "\n",
        "name = input(\"Enter the name of the polygon: \")\n",
        "sides = int(input(\"Enter the number of sides: \"))\n",
        "area = float(input(\"Enter the area: \"))\n",
        "\n",
        "polygon = Polygons(name, sides, area)\n",
        "\n",
        "print(\"\\nPolygon Details:\")\n",
        "print(\"Name:\", polygon.get_name())\n",
        "print(\"Number of Sides:\", polygon.get_sides())\n",
        "print(\"Area:\", polygon.get_area())"
      ]
    }
  ]
}