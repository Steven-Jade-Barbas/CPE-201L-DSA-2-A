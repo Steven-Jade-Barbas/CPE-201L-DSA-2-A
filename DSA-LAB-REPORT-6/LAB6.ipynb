{
  "nbformat": 4,
  "nbformat_minor": 0,
  "metadata": {
    "colab": {
      "provenance": [],
      "authorship_tag": "ABX9TyOLC9Hw+opaPuDk/4ewKf2E",
      "include_colab_link": true
    },
    "kernelspec": {
      "name": "python3",
      "display_name": "Python 3"
    },
    "language_info": {
      "name": "python"
    }
  },
  "cells": [
    {
      "cell_type": "markdown",
      "metadata": {
        "id": "view-in-github",
        "colab_type": "text"
      },
      "source": [
        "<a href=\"https://colab.research.google.com/github/Steven-Jade-Barbas/CPE-201L-DSA-2-A/blob/main/LAB6.ipynb\" target=\"_parent\"><img src=\"https://colab.research.google.com/assets/colab-badge.svg\" alt=\"Open In Colab\"/></a>"
      ]
    },
    {
      "cell_type": "markdown",
      "source": [
        "Write a Python program to create a singly linked list of prime numbers less than 20. By iterating through the list, display all the prime numbers, the head, and the tail of the list."
      ],
      "metadata": {
        "id": "AqMQCJtyRWkl"
      }
    },
    {
      "cell_type": "code",
      "source": [
        "class Node:\n",
        "    def __init__(self, data):\n",
        "        self.data = data\n",
        "        self.next = None\n",
        "\n",
        "class LinkedList:\n",
        "    def __init__(self):\n",
        "        self.head = None\n",
        "\n",
        "    def append(self, data):\n",
        "        new_node = Node(data)\n",
        "        if not self.head:\n",
        "            self.head = new_node\n",
        "            return\n",
        "        current = self.head\n",
        "        while current.next:\n",
        "            current = current.next\n",
        "        current.next = new_node\n",
        "\n",
        "    def display(self):\n",
        "        current = self.head\n",
        "        while current:\n",
        "            print(current.data, end=\" -> \")\n",
        "            current = current.next\n",
        "        print(\"None\")\n",
        "\n",
        "    def get_head(self):\n",
        "        return self.head.data if self.head else None\n",
        "\n",
        "    def get_tail(self):\n",
        "        current = self.head\n",
        "        if not current:\n",
        "            return None\n",
        "        while current.next:\n",
        "            current = current.next\n",
        "        return current.data\n",
        "\n",
        "def is_prime(num):\n",
        "    if num < 2:\n",
        "        return False\n",
        "    for i in range(2, int(num**0.5) + 1):\n",
        "        if num % i == 0:\n",
        "            return False\n",
        "    return True\n",
        "\n",
        "ll = LinkedList()\n",
        "for i in range(20):\n",
        "    if is_prime(i):\n",
        "        ll.append(i)\n",
        "\n",
        "print(\"Prime numbers in the linked list:\")\n",
        "ll.display()\n",
        "\n",
        "print(\"Head of the list:\", ll.get_head())\n",
        "print(\"Tail of the list:\", ll.get_tail())"
      ],
      "metadata": {
        "colab": {
          "base_uri": "https://localhost:8080/"
        },
        "id": "qetyFLlsY8HW",
        "outputId": "0a692d32-0cc5-408a-80f1-f419e4909601"
      },
      "execution_count": 11,
      "outputs": [
        {
          "output_type": "stream",
          "name": "stdout",
          "text": [
            "Prime numbers in the linked list:\n",
            "2 -> 3 -> 5 -> 7 -> 11 -> 13 -> 17 -> 19 -> None\n",
            "Head of the list: 2\n",
            "Tail of the list: 19\n"
          ]
        }
      ]
    }
  ]
}
