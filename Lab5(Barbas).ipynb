{
  "nbformat": 4,
  "nbformat_minor": 0,
  "metadata": {
    "colab": {
      "provenance": [],
      "authorship_tag": "ABX9TyMR539z17y3KIh4/HrIBS9s",
      "include_colab_link": true
    },
    "kernelspec": {
      "name": "python3",
      "display_name": "Python 3"
    },
    "language_info": {
      "name": "python"
    }
  },
  "cells": [
    {
      "cell_type": "markdown",
      "metadata": {
        "id": "view-in-github",
        "colab_type": "text"
      },
      "source": [
        "<a href=\"https://colab.research.google.com/github/Steven-Jade-Barbas/CPE-201L-DSA-2-A/blob/main/Lab5(Barbas).ipynb\" target=\"_parent\"><img src=\"https://colab.research.google.com/assets/colab-badge.svg\" alt=\"Open In Colab\"/></a>"
      ]
    },
    {
      "cell_type": "markdown",
      "source": [
        "•\tWrite a Python program to create an array of 10 integers and display the array items. Access individual elements through indexes and compute for the sum."
      ],
      "metadata": {
        "id": "dbThNyqBbvEQ"
      }
    },
    {
      "cell_type": "code",
      "execution_count": 12,
      "metadata": {
        "colab": {
          "base_uri": "https://localhost:8080/"
        },
        "id": "8JBPjFaSVBAO",
        "outputId": "3c361ac3-726e-45c4-a2c3-8e346dc21367"
      },
      "outputs": [
        {
          "output_type": "stream",
          "name": "stdout",
          "text": [
            "Array items: [1, 2, 3, 4, 5, 6, 7, 8, 9, 10]\n",
            "Accessing individual elements:\n",
            "Index 0 -> 1\n",
            "Index 1 -> 2\n",
            "Index 2 -> 3\n",
            "Index 3 -> 4\n",
            "Index 4 -> 5\n",
            "Index 5 -> 6\n",
            "Index 6 -> 7\n",
            "Index 7 -> 8\n",
            "Index 8 -> 9\n",
            "Index 9 -> 10\n",
            "\n",
            "\n",
            "Sum of the array: 55\n"
          ]
        }
      ],
      "source": [
        "numbers = [1,2,3,4,5,6,7,8,9,10]\n",
        "print(\"Array items:\", numbers)\n",
        "\n",
        "print(\"Accessing individual elements:\")\n",
        "for i in range(len(numbers)):\n",
        "    print(f\"Index {i} -> {numbers[i]}\")\n",
        "\n",
        "total_sum = sum(numbers)\n",
        "print(\"\\n\")\n",
        "print (\"Sum of the array:\",total_sum)"
      ]
    },
    {
      "cell_type": "markdown",
      "source": [
        "•\tWrite a Python program to append a new item to the end of the array. Original array: numbers = [1, 2, 3, 4, 5, 6, 7, 8, 9, 10]"
      ],
      "metadata": {
        "id": "UhuXKbSGbQPJ"
      }
    },
    {
      "cell_type": "code",
      "source": [
        "numbers = [1,2,3,4,5,6,7,8,9,10]\n",
        "print(\"Array items:\", numbers)\n",
        "\n",
        "new_item = int(input(\"Enter a number to append: \"))\n",
        "\n",
        "numbers.append(new_item)\n",
        "\n",
        "print(\"Array items updated:\", numbers)"
      ],
      "metadata": {
        "colab": {
          "base_uri": "https://localhost:8080/"
        },
        "id": "zh2AzvNlXNKo",
        "outputId": "1f22d570-ff41-4dbb-b907-71aadac6297d"
      },
      "execution_count": 9,
      "outputs": [
        {
          "output_type": "stream",
          "name": "stdout",
          "text": [
            "Array items: [1, 2, 3, 4, 5, 6, 7, 8, 9, 10]\n",
            "Enter a number to append: 11\n",
            "Array items updated: [1, 2, 3, 4, 5, 6, 7, 8, 9, 10, 11]\n"
          ]
        }
      ]
    },
    {
      "cell_type": "markdown",
      "source": [
        "•\tWrite a Python program to insert a new item before the second element in an existing array. Original array: numbers = [1, 2, 3, 4, 5, 6, 7, 8, 9, 10]"
      ],
      "metadata": {
        "id": "ISC_GCvLcbpp"
      }
    },
    {
      "cell_type": "code",
      "source": [
        "numbers = [1,2,3,4,5,6,7,8,9,10]\n",
        "print(\"Array items:\", numbers)\n",
        "\n",
        "new_item = int(input(\"Enter a number to insert before the 2nd number: \"))\n",
        "\n",
        "numbers.insert(1, new_item)\n",
        "\n",
        "print(\"Array after inserting:\", numbers)\n"
      ],
      "metadata": {
        "colab": {
          "base_uri": "https://localhost:8080/"
        },
        "id": "g9H-glemYR7e",
        "outputId": "ea2ca17c-3a81-42cd-ca8c-ce813758982a"
      },
      "execution_count": 10,
      "outputs": [
        {
          "output_type": "stream",
          "name": "stdout",
          "text": [
            "Array items: [1, 2, 3, 4, 5, 6, 7, 8, 9, 10]\n",
            "Enter a number to insert before the 2nd number: 11\n",
            "Array after inserting: [1, 11, 2, 3, 4, 5, 6, 7, 8, 9, 10]\n"
          ]
        }
      ]
    },
    {
      "cell_type": "markdown",
      "source": [
        "•\tWrite a Python program to reverse the order of the items in the array. Original array: numbers = [5, 4, 3, 2, 1]"
      ],
      "metadata": {
        "id": "a3bcYrEwcjA5"
      }
    },
    {
      "cell_type": "code",
      "source": [
        "numbers = [5, 4, 3, 2, 1]\n",
        "print(\"Array items:\", numbers)\n",
        "numbers.reverse()\n",
        "print(\"Reversed array order:\", numbers)"
      ],
      "metadata": {
        "colab": {
          "base_uri": "https://localhost:8080/"
        },
        "id": "9ki3-wzGZhFp",
        "outputId": "746bf6c6-25a2-4d61-a900-424cf58ce4ce"
      },
      "execution_count": 14,
      "outputs": [
        {
          "output_type": "stream",
          "name": "stdout",
          "text": [
            "Array items: [5, 4, 3, 2, 1]\n",
            "Reversed array order: [1, 2, 3, 4, 5]\n"
          ]
        }
      ]
    },
    {
      "cell_type": "markdown",
      "source": [
        "Write a Python program to get the length of the array. Original array: numbers = [5, 4, 3, 2, 1]\n",
        "\n"
      ],
      "metadata": {
        "id": "4PbBi7DXcnVw"
      }
    },
    {
      "cell_type": "code",
      "source": [
        "numbers = [5, 4, 3, 2, 1]\n",
        "print(\"Array items:\", numbers)\n",
        "length = len(numbers)\n",
        "print(\"Length of the array:\", length)"
      ],
      "metadata": {
        "colab": {
          "base_uri": "https://localhost:8080/"
        },
        "id": "ZKyzonrnaMXw",
        "outputId": "11a03737-4525-4d24-ee16-8690f8866af0"
      },
      "execution_count": 15,
      "outputs": [
        {
          "output_type": "stream",
          "name": "stdout",
          "text": [
            "Array items: [5, 4, 3, 2, 1]\n",
            "Length of the array: 5\n"
          ]
        }
      ]
    }
  ]
}