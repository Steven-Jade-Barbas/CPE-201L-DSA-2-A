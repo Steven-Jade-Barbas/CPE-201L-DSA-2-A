{
  "nbformat": 4,
  "nbformat_minor": 0,
  "metadata": {
    "colab": {
      "provenance": [],
      "authorship_tag": "ABX9TyN+EsW1MRvimm8POqfwrw/7",
      "include_colab_link": true
    },
    "kernelspec": {
      "name": "python3",
      "display_name": "Python 3"
    },
    "language_info": {
      "name": "python"
    }
  },
  "cells": [
    {
      "cell_type": "markdown",
      "metadata": {
        "id": "view-in-github",
        "colab_type": "text"
      },
      "source": [
        "<a href=\"https://colab.research.google.com/github/Steven-Jade-Barbas/CPE-201L-DSA-2-A/blob/main/Array_(Barbas).ipynb\" target=\"_parent\"><img src=\"https://colab.research.google.com/assets/colab-badge.svg\" alt=\"Open In Colab\"/></a>"
      ]
    },
    {
      "cell_type": "code",
      "execution_count": null,
      "metadata": {
        "colab": {
          "base_uri": "https://localhost:8080/"
        },
        "id": "hqrQAwbgYngB",
        "outputId": "3210f45b-ee33-45ea-8480-d9973069109a"
      },
      "outputs": [
        {
          "metadata": {
            "tags": null
          },
          "name": "stdout",
          "output_type": "stream",
          "text": [
            "Original array: [10, 20, 30, 40, 50]\n",
            "\n",
            "Menu:\n",
            "1. Traverse array\n",
            "2. Reverse array\n",
            "3. Sort array\n",
            "4. Insert element\n",
            "5. Modify element\n",
            "6.Exit\n",
            "Invalid index\n",
            "\n",
            "Menu:\n",
            "1. Traverse array\n",
            "2. Reverse array\n",
            "3. Sort array\n",
            "4. Insert element\n",
            "5. Modify element\n",
            "6.Exit\n",
            "Invalid index\n",
            "\n",
            "Menu:\n",
            "1. Traverse array\n",
            "2. Reverse array\n",
            "3. Sort array\n",
            "4. Insert element\n",
            "5. Modify element\n",
            "6.Exit\n",
            "[10, 7, 30, 40, 50]\n",
            "\n",
            "Menu:\n",
            "1. Traverse array\n",
            "2. Reverse array\n",
            "3. Sort array\n",
            "4. Insert element\n",
            "5. Modify element\n",
            "6.Exit\n"
          ]
        }
      ],
      "source": [
        "def traverse_array(arr):\n",
        "    \"\"\"Function to traverse and print all elements in the array\"\"\"\n",
        "    print(\"Traversing the array:\")\n",
        "    for i, element in enumerate(arr):\n",
        "        print(f\"Index {i}: {element}\")\n",
        "def reverse(arr):\n",
        "    reversed_arr = arr[::-1]\n",
        "    print(reversed_arr)\n",
        "\n",
        "def sort_array(arr):\n",
        "    sorted_arr = sorted(arr)\n",
        "    print(sorted_arr)\n",
        "\n",
        "def insert_element(arr, element):\n",
        "    arr.append(element)\n",
        "    print(arr)\n",
        "\n",
        "def modify_element(arr, index, new_element):\n",
        "    if 0 <= index < len(arr):\n",
        "        arr[index] = new_element\n",
        "        print(arr)\n",
        "    else:\n",
        "        print(\"Invalid index\")\n",
        "\n",
        "def main():\n",
        "    # Initialize an array\n",
        "    arr = [10, 20, 30, 40, 50]\n",
        "    print(\"Original array:\", arr)\n",
        "\n",
        "    while True:\n",
        "        print(\"\\nMenu:\")\n",
        "        print(\"1. Traverse array\")\n",
        "        print(\"2. Reverse array\")\n",
        "        print(\"3. Sort array\")\n",
        "        print(\"4. Insert element\")\n",
        "        print(\"5. Modify element\")\n",
        "        print(\"6.Exit\")\n",
        "        choice = input(\"Enter your choice (1-6): \")\n",
        "\n",
        "        if choice == '1':\n",
        "            traverse_array(arr)\n",
        "        elif choice == '2':\n",
        "            reverse(arr)\n",
        "        elif choice == '3':\n",
        "             sort_array(arr)\n",
        "        elif choice == '4':\n",
        "            element = int(input(\"Enter the element to insert: \"))\n",
        "            insert_element(arr, element)\n",
        "            sort_array(arr)\n",
        "        elif choice == '5':\n",
        "            index = int(input(\"Enter the index to modify: \"))\n",
        "            new_element = int(input(\"Enter the new element: \"))\n",
        "            modify_element(arr, index, new_element)\n",
        "        elif choice == '6':\n",
        "            print(\"Exiting the program.\")\n",
        "            break\n",
        "        else:\n",
        "\n",
        "          print(\"Invalid choice. Please enter a number between 1 and 6.\")\n",
        "\n",
        "if __name__ == \"__main__\":\n",
        "    main()\n",
        "\n"
      ]
    },
    {
      "cell_type": "code",
      "source": [],
      "metadata": {
        "id": "e51NizixZ2Mv"
      },
      "execution_count": null,
      "outputs": []
    }
  ]
}