{
  "nbformat": 4,
  "nbformat_minor": 0,
  "metadata": {
    "colab": {
      "provenance": [],
      "authorship_tag": "ABX9TyMN+frkNYww/phx318GVHuc",
      "include_colab_link": true
    },
    "kernelspec": {
      "name": "python3",
      "display_name": "Python 3"
    },
    "language_info": {
      "name": "python"
    }
  },
  "cells": [
    {
      "cell_type": "markdown",
      "metadata": {
        "id": "view-in-github",
        "colab_type": "text"
      },
      "source": [
        "<a href=\"https://colab.research.google.com/github/Steven-Jade-Barbas/CPE-201L-DSA-2-A/blob/main/Arrays.ipynb\" target=\"_parent\"><img src=\"https://colab.research.google.com/assets/colab-badge.svg\" alt=\"Open In Colab\"/></a>"
      ]
    },
    {
      "cell_type": "code",
      "execution_count": 1,
      "metadata": {
        "colab": {
          "base_uri": "https://localhost:8080/"
        },
        "id": "8Z8fPuZ8Ytg6",
        "outputId": "08135145-7ca9-4caf-eeed-18b37041e75c"
      },
      "outputs": [
        {
          "output_type": "stream",
          "name": "stdout",
          "text": [
            "                  Jenna's Grocery List\n",
            "------------------------------------------------------------\n",
            "Type         Name         Price      Quantity   Subtotal  \n",
            "------------------------------------------------------------\n",
            "Fruit        Apple        10         7          70        \n",
            "Fruit        Banana       10         8          80        \n",
            "Vegetable    Broccoli     60         12         720       \n",
            "Vegetable    Lettuce      50         10         500       \n",
            "------------------------------------------------------------\n",
            "Total sum of groceries:                        PHP 1370\n",
            "\n",
            "Destructor called, removing lettuce.\n",
            "\n",
            "                  Jenna's Grocery List\n",
            "------------------------------------------------------------\n",
            "Type         Name         Price      Quantity   Subtotal  \n",
            "------------------------------------------------------------\n",
            "Fruit        Apple        10         7          70        \n",
            "Fruit        Banana       10         8          80        \n",
            "Vegetable    Broccoli     60         12         720       \n",
            "------------------------------------------------------------\n",
            "Total sum of groceries:                        PHP 870\n",
            "\n"
          ]
        }
      ],
      "source": [
        "class GroceryItem:\n",
        "    def __init__(self, name, price, quantity):\n",
        "        self.name = name\n",
        "        self.price = price\n",
        "        self.quantity = quantity\n",
        "\n",
        "class Fruit(GroceryItem):\n",
        "    def __init__(self, name, price, quantity):\n",
        "        super().__init__(name, price, quantity)\n",
        "\n",
        "    def __del__(self):\n",
        "        pass\n",
        "\n",
        "    def copy(self):\n",
        "        return Fruit(self.name, self.price, self.quantity)\n",
        "\n",
        "    def display(self):\n",
        "        subtotal = self.calculate_sum()\n",
        "        return f\"{'Fruit':<12} {self.name:<12} {self.price:<10} {self.quantity:<10} {subtotal:<10}\"\n",
        "\n",
        "    def calculate_sum(self):\n",
        "        return self.price * self.quantity\n",
        "\n",
        "class Vegetable(GroceryItem):\n",
        "    def __init__(self, name, price, quantity):\n",
        "        super().__init__(name, price, quantity)\n",
        "\n",
        "    def __del__(self):\n",
        "        pass\n",
        "\n",
        "    def copy(self):\n",
        "        return Vegetable(self.name, self.price, self.quantity)\n",
        "\n",
        "    def display(self):\n",
        "        subtotal = self.calculate_sum()\n",
        "        return f\"{'Vegetable':<12} {self.name:<12} {self.price:<10} {self.quantity:<10} {subtotal:<10}\"\n",
        "\n",
        "    def calculate_sum(self):\n",
        "        return self.price * self.quantity\n",
        "\n",
        "def TotalSum(grocery_list):\n",
        "    total = 0\n",
        "    for item in grocery_list:\n",
        "        total += item.calculate_sum()\n",
        "    return total\n",
        "\n",
        "\n",
        "# --- Main program ---\n",
        "apple = Fruit(\"Apple\", 10, 7)\n",
        "banana = Fruit(\"Banana\", 10, 8)\n",
        "broccoli = Vegetable(\"Broccoli\", 60, 12)\n",
        "lettuce = Vegetable(\"Lettuce\", 50, 10)\n",
        "grocery_list = [apple, banana, broccoli, lettuce]\n",
        "\n",
        "print(\"                  Jenna's Grocery List\")\n",
        "print(\"------------------------------------------------------------\")\n",
        "print(f\"{'Type':<12} {'Name':<12} {'Price':<10} {'Quantity':<10} {'Subtotal':<10}\")\n",
        "print(\"------------------------------------------------------------\")\n",
        "for item in grocery_list:\n",
        "    print(item.display())\n",
        "print(\"------------------------------------------------------------\")\n",
        "total = TotalSum(grocery_list)\n",
        "print(f\"{'Total sum of groceries:':<46} PHP {total}\\n\")\n",
        "\n",
        "\n",
        "# Remove lettuce\n",
        "print(\"Destructor called, removing lettuce.\\n\")\n",
        "grocery_list.remove(lettuce)\n",
        "del lettuce\n",
        "\n",
        "print(\"                  Jenna's Grocery List\")\n",
        "print(\"------------------------------------------------------------\")\n",
        "print(f\"{'Type':<12} {'Name':<12} {'Price':<10} {'Quantity':<10} {'Subtotal':<10}\")\n",
        "print(\"------------------------------------------------------------\")\n",
        "for item in grocery_list:\n",
        "    print(item.display())\n",
        "print(\"------------------------------------------------------------\")\n",
        "total = TotalSum(grocery_list)\n",
        "print(f\"{'Total sum of groceries:':<46} PHP {total}\\n\")\n"
      ]
    }
  ]
}
