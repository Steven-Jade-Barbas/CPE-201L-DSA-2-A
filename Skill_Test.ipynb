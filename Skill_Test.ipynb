{
  "nbformat": 4,
  "nbformat_minor": 0,
  "metadata": {
    "colab": {
      "provenance": [],
      "authorship_tag": "ABX9TyMkVUNJsOeJau7J8vxXdi4w",
      "include_colab_link": true
    },
    "kernelspec": {
      "name": "python3",
      "display_name": "Python 3"
    },
    "language_info": {
      "name": "python"
    }
  },
  "cells": [
    {
      "cell_type": "markdown",
      "metadata": {
        "id": "view-in-github",
        "colab_type": "text"
      },
      "source": [
        "<a href=\"https://colab.research.google.com/github/Steven-Jade-Barbas/CPE-201L-DSA-2-A/blob/main/Skill_Test.ipynb\" target=\"_parent\"><img src=\"https://colab.research.google.com/assets/colab-badge.svg\" alt=\"Open In Colab\"/></a>"
      ]
    },
    {
      "cell_type": "code",
      "execution_count": 56,
      "metadata": {
        "colab": {
          "base_uri": "https://localhost:8080/"
        },
        "id": "YB_Li0wBqfZR",
        "outputId": "8d28b530-ed61-4bf6-8429-4f6036f007f1"
      },
      "outputs": [
        {
          "output_type": "stream",
          "name": "stdout",
          "text": [
            "Name: STEVEN JADE PAGAL BARBAS\n",
            "\n",
            "Pushing characters to stack:\n",
            "Pushed: S\n",
            "Pushed: T\n",
            "Pushed: E\n",
            "Pushed: V\n",
            "Pushed: E\n",
            "Pushed: N\n",
            "Pushed:  \n",
            "Pushed: J\n",
            "Pushed: A\n",
            "Pushed: D\n",
            "Pushed: E\n",
            "Pushed:  \n",
            "Pushed: P\n",
            "Pushed: A\n",
            "Pushed: G\n",
            "Pushed: A\n",
            "Pushed: L\n",
            "Pushed:  \n",
            "Pushed: B\n",
            "Pushed: A\n",
            "Pushed: R\n",
            "Pushed: B\n",
            "Pushed: A\n",
            "Pushed: S\n",
            "\n",
            "Stack contents (TOP to BOTTOM):\n",
            "S->A->B->R->A->B-> ->L->A->G->A->P-> ->E->D->A->J-> ->N->E->V->E->T->S\n",
            "\n",
            "Traversing the stack (reading all elements):\n",
            "S->A->B->R->A->B-> ->L->A->G->A->P-> ->E->D->A->J-> ->N->E->V->E->T->S\n"
          ]
        }
      ],
      "source": [
        "class Node():\n",
        "    def __init__(self, data):\n",
        "        self.data = data\n",
        "        self.next = None\n",
        "\n",
        "class Stack():\n",
        "    def __init__(self):\n",
        "        self.top = None\n",
        "        self.size = 0\n",
        "\n",
        "    def push(self, data):\n",
        "        new_node = Node(data)\n",
        "        new_node.next = self.top\n",
        "        self.top = new_node\n",
        "        self.size += 1\n",
        "\n",
        "    def is_empty(self):\n",
        "        return self.top is None\n",
        "\n",
        "    def display(self):\n",
        "        if self.is_empty():\n",
        "            return \"EMPTY\"\n",
        "\n",
        "        current = self.top\n",
        "        elements = []\n",
        "        while current:\n",
        "            elements.append(current.data)\n",
        "            current = current.next\n",
        "        return \"->\".join(elements)\n",
        "\n",
        "    def traverse(self):\n",
        "        if self.is_empty():\n",
        "            return []\n",
        "\n",
        "        current = self.top\n",
        "        elements = []\n",
        "        while current:\n",
        "            elements.append(current.data)\n",
        "            current = current.next\n",
        "        return elements\n",
        "\n",
        "# Main program\n",
        "name = \"STEVEN JADE PAGAL BARBAS\"\n",
        "stack = Stack()\n",
        "\n",
        "print(\"Name:\", name)\n",
        "\n",
        "print(\"\\nPushing characters to stack:\")\n",
        "for char in name:\n",
        "    stack.push(char)\n",
        "    print(f\"Pushed: {char}\")\n",
        "\n",
        "print(\"\\nStack contents (TOP to BOTTOM):\")\n",
        "print(stack.display())\n",
        "\n",
        "print(\"\\nTraversing the stack (reading all elements):\")\n",
        "traversed = stack.traverse()\n",
        "print(\"->\".join(traversed))\n"
      ]
    }
  ]
}