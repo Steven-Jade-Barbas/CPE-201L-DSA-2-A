{
  "nbformat": 4,
  "nbformat_minor": 0,
  "metadata": {
    "colab": {
      "provenance": [],
      "authorship_tag": "ABX9TyPzPS49g2gW5Ozqgz9DYeiE",
      "include_colab_link": true
    },
    "kernelspec": {
      "name": "python3",
      "display_name": "Python 3"
    },
    "language_info": {
      "name": "python"
    }
  },
  "cells": [
    {
      "cell_type": "markdown",
      "metadata": {
        "id": "view-in-github",
        "colab_type": "text"
      },
      "source": [
        "<a href=\"https://colab.research.google.com/github/Steven-Jade-Barbas/CPE-201L-DSA-2-A/blob/main/Queue.ipynb\" target=\"_parent\"><img src=\"https://colab.research.google.com/assets/colab-badge.svg\" alt=\"Open In Colab\"/></a>"
      ]
    },
    {
      "cell_type": "code",
      "execution_count": 1,
      "metadata": {
        "colab": {
          "base_uri": "https://localhost:8080/"
        },
        "id": "keob2jaYMJLP",
        "outputId": "08ee429b-2afd-4aba-8252-8e59072829e5"
      },
      "outputs": [
        {
          "output_type": "stream",
          "name": "stdout",
          "text": [
            "Display:\n",
            "Sat\n",
            "Fri\n",
            "Thu\n",
            "Wed\n",
            "Tue\n",
            "Mon\n",
            "Sun\n",
            "\n",
            "Full Stack:\n",
            "The Queue is full.\n",
            "\n",
            "Dequeue:\n",
            "Fri\n",
            "Thu\n",
            "Wed\n",
            "Tue\n",
            "Mon\n",
            "Sun\n",
            "\n",
            "Top Element:\n",
            "Fri\n",
            "\n",
            "Head Element:\n",
            "Fri\n",
            "\n",
            "Tail Element:\n",
            "Sun\n",
            "\n",
            "Empty Queue:\n",
            "The Queue is empty.\n",
            "\n",
            "Full Queue:\n",
            "The Queue is not full.\n"
          ]
        }
      ],
      "source": [
        "class Queue:\n",
        "    def __init__(self):\n",
        "        self.queue = []\n",
        "\n",
        "    def enqueue(self, dataval):\n",
        "        # Use list append method to add element\n",
        "        if dataval not in self.queue:\n",
        "            self.queue.append(dataval)\n",
        "            return True\n",
        "        else:\n",
        "            return False\n",
        "\n",
        "    def dequeue(self):\n",
        "        # Remove and return the top element (last in first out)\n",
        "        if len(self.queue) <= 0:\n",
        "            return \"Queue is empty\"\n",
        "        else:\n",
        "            return self.queue.pop()\n",
        "\n",
        "    def display(self):\n",
        "      for item in reversed(self.queue):    #stack = [\"Sun\",\"Mon\",\"Tues\",\"Wed\",\"Thurs\",\"Fri\",\"Sat\"]\n",
        "        print(item)\n",
        "\n",
        "    def empty_stack(self):\n",
        "        while self.queue:\n",
        "          self.queue.pop()\n",
        "        print(\"The Queue is empty.\")\n",
        "\n",
        "    def full_stack(self):\n",
        "        if len(self.queue) == 7:\n",
        "            print(\"The Queue is full.\")\n",
        "        else:\n",
        "            print(\"The Queue is not full.\")\n",
        "\n",
        "    def top_element(self):\n",
        "        print(self.queue[-1])\n",
        "\n",
        "    def head_queue(self):\n",
        "        if self.queue:\n",
        "            print(self.queue[-1])\n",
        "        else:\n",
        "            print(\"Queue is empty\")\n",
        "\n",
        "    def tail_queue(self):\n",
        "        if self.queue:\n",
        "            print(self.queue[0])\n",
        "        else:\n",
        "            print(\"Queue is empty\")\n",
        "\n",
        "AQueue = Queue()\n",
        "AQueue.enqueue(\"Sun\")\n",
        "AQueue.enqueue(\"Mon\")\n",
        "AQueue.enqueue(\"Tue\")\n",
        "AQueue.enqueue(\"Wed\")\n",
        "AQueue.enqueue(\"Thu\")\n",
        "AQueue.enqueue(\"Fri\")\n",
        "AQueue.enqueue(\"Sat\")\n",
        "\n",
        "print(\"Display:\")\n",
        "AQueue.display()\n",
        "print(\"\\nFull Stack:\")\n",
        "AQueue.full_stack()\n",
        "print(\"\\nDequeue:\")\n",
        "AQueue.dequeue()\n",
        "AQueue.display()\n",
        "\n",
        "print(\"\\nTop Element:\")\n",
        "AQueue.top_element()\n",
        "print(\"\\nHead Element:\")\n",
        "AQueue.head_queue()\n",
        "print(\"\\nTail Element:\")\n",
        "AQueue.tail_queue()\n",
        "print(\"\\nEmpty Queue:\")\n",
        "AQueue.empty_stack()\n",
        "print(\"\\nFull Queue:\")\n",
        "AQueue.full_stack()"
      ]
    }
  ]
}