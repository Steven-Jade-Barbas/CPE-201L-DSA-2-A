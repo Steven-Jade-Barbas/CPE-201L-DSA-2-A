{
  "nbformat": 4,
  "nbformat_minor": 0,
  "metadata": {
    "colab": {
      "provenance": [],
      "authorship_tag": "ABX9TyPt1TfDJTVgYDo4qgBxzSzG",
      "include_colab_link": true
    },
    "kernelspec": {
      "name": "python3",
      "display_name": "Python 3"
    },
    "language_info": {
      "name": "python"
    }
  },
  "cells": [
    {
      "cell_type": "markdown",
      "metadata": {
        "id": "view-in-github",
        "colab_type": "text"
      },
      "source": [
        "<a href=\"https://colab.research.google.com/github/Steven-Jade-Barbas/CPE-201L-DSA-2-A/blob/main/LAB_3.ipynb\" target=\"_parent\"><img src=\"https://colab.research.google.com/assets/colab-badge.svg\" alt=\"Open In Colab\"/></a>"
      ]
    },
    {
      "cell_type": "code",
      "execution_count": 49,
      "metadata": {
        "colab": {
          "base_uri": "https://localhost:8080/"
        },
        "id": "p9u8-zjGVUrn",
        "outputId": "546a1e9d-1b3e-4759-fde2-5d321943a7b2"
      },
      "outputs": [
        {
          "output_type": "stream",
          "name": "stdout",
          "text": [
            "Sum of even scores: 144\n"
          ]
        }
      ],
      "source": [
        "scores = [88, 56, 77, 11, 37, 75, 105]\n",
        "\n",
        "total = 0\n",
        "\n",
        "for score in scores:\n",
        "    if score % 2 == 0:\n",
        "        total += score\n",
        "\n",
        "print(\"Sum of even scores:\", total)"
      ]
    }
  ]
}